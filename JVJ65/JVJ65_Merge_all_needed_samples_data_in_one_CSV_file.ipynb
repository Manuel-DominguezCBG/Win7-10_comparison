{
 "cells": [
  {
   "cell_type": "markdown",
   "metadata": {},
   "source": [
    "# JVJ65 Merge all needed samples data in one CSV file"
   ]
  },
  {
   "cell_type": "code",
   "execution_count": 37,
   "metadata": {},
   "outputs": [],
   "source": [
    "import pandas as pd\n",
    "import os\n",
    "import seaborn as sns, numpy as np"
   ]
  },
  {
   "cell_type": "code",
   "execution_count": 21,
   "metadata": {},
   "outputs": [],
   "source": [
    "def load_sample (Name_file):\n",
    "    '''\n",
    "    Input:VCF file\n",
    "    Output1: VCF data (pandas data frame)\n",
    "    Output2: Sample name (W123456789)\n",
    "    '''\n",
    "    with open(Name_file, 'r') as f:\n",
    "        for line in f:\n",
    "            if line.startswith('#') and len(line)>2 and line[1] != '#':\n",
    "                columns = line[1:-1].split('\\t')\n",
    "                file_data = pd.read_csv(Name_file, comment='#', delimiter='\\t', names=columns)\n",
    "                name_sample = file_data.columns[-1]\n",
    "                break\n",
    "    return file_data, name_sample"
   ]
  },
  {
   "cell_type": "code",
   "execution_count": 22,
   "metadata": {},
   "outputs": [],
   "source": [
    "def data_manipulation(file_data,name_sample):\n",
    "    '''\n",
    "    Input: VCF data\n",
    "    Output: The selected data we need for comparison\n",
    "    '''\n",
    "    # 1) Create a new column with the name of the sample.\n",
    "    file_data['name_sample'] = name_sample\n",
    "    \n",
    "    # 2) Create a variant ID (name_sample+CHROM+POS+REF+\">\"+ALT) in a new column\n",
    "    file_data['Sample_ID'] = file_data[\"name_sample\"]+file_data[\"CHROM\"]+\":\"+file_data[\"POS\"].astype(str)+file_data[\"REF\"]+\">\"+file_data[\"ALT\"]\n",
    "    \n",
    "    # 3) To get GT, AD and SB values I need to put this data in new columns\n",
    "    ### VERY CAREFUL AT THIS POINT. DIFFERENT VCF FILES CAN HAVE DIFFERENT FORMAT STRUCTURE IN THIS COLUMN ###\n",
    "    \n",
    "    tmp_df = file_data.apply(lambda x:dict(zip(x.FORMAT.split(\":\"),x[name_sample].split(\":\"))), axis=1).apply(pd.Series)\n",
    "    \n",
    "    file_data = pd.concat([file_data, tmp_df], axis=1)\n",
    "    \n",
    "    # 4) Return the columns we need\n",
    "    file_data_selec = file_data[['Sample_ID',\"QUAL\",\"FILTER\",\"GT\",\"AD\",\"SB\"]]\n",
    "    return file_data_selec"
   ]
  },
  {
   "cell_type": "code",
   "execution_count": 35,
   "metadata": {},
   "outputs": [],
   "source": [
    "def itinerante_by_files():\n",
    "    '''\n",
    "    Itinerante over the samples in Data_input folder\n",
    "    '''\n",
    "    PATH_FileNames = ['./Data_input/' + file_name for file_name in os.listdir(\"./Data_input/\")]\n",
    "    colNames = ['Sample_ID',\"QUAL\",\"FILTER\",\"GT\",\"AD\",\"SB\"]\n",
    "    masterVCF = pd.DataFrame(columns = colNames)\n",
    "    for Name_file in PATH_FileNames:\n",
    "        print(Name_file)\n",
    "        file_data,name_sample = load_sample(Name_file)\n",
    "        file_data_selec = data_manipulation(file_data,name_sample)\n",
    "        masterVCF = masterVCF.append(file_data_selec,ignore_index=True)\n",
    "    print(\"Total number of variants: \",len(masterVCF))\n",
    "    \n",
    "    \n",
    "    # Change the file name manually. This is to enchure that we create the desire file\n",
    "    return masterVCF.to_csv('./Data_output/JVJ65_Win10_Stitch_NoReal.csv')\n"
   ]
  },
  {
   "cell_type": "code",
   "execution_count": 36,
   "metadata": {},
   "outputs": [
    {
     "name": "stdout",
     "output_type": "stream",
     "text": [
      "./Data_input/W2114579_S4.vcf\n",
      "./Data_input/W2114447_S13.vcf\n",
      "./Data_input/W2114249_S3.vcf\n",
      "./Data_input/W2113856_S16.vcf\n",
      "./Data_input/W2112623_S7.vcf\n",
      "./Data_input/W2114554_S14.vcf\n",
      "./Data_input/W2114485_S9.vcf\n",
      "./Data_input/W2114559_S2.vcf\n",
      "./Data_input/W2114486_S10.vcf\n",
      "./Data_input/W2114480_S1.vcf\n",
      "./Data_input/W2112426_S8.vcf\n",
      "./Data_input/W2114529_S15.vcf\n",
      "./Data_input/W2114578_S5.vcf\n",
      "./Data_input/W2114280_S12.vcf\n",
      "./Data_input/W2114514_S11.vcf\n",
      "./Data_input/W2114560_S6.vcf\n",
      "Total number of variants:  13655\n"
     ]
    }
   ],
   "source": [
    "itinerante_by_files()"
   ]
  },
  {
   "cell_type": "markdown",
   "metadata": {},
   "source": [
    "This must have generated a csv file in the output folder.\n",
    "Make sure and verify that the generated document is the desired one. All subsequent analysis is carried out based on these files!!\n",
    "\n",
    "With JVJ65 make sure that the win10 runs are the ones you believe looking at SampleSheetUsed"
   ]
  },
  {
   "cell_type": "code",
   "execution_count": 13,
   "metadata": {},
   "outputs": [
    {
     "data": {
      "text/html": [
       "<div>\n",
       "<style scoped>\n",
       "    .dataframe tbody tr th:only-of-type {\n",
       "        vertical-align: middle;\n",
       "    }\n",
       "\n",
       "    .dataframe tbody tr th {\n",
       "        vertical-align: top;\n",
       "    }\n",
       "\n",
       "    .dataframe thead th {\n",
       "        text-align: right;\n",
       "    }\n",
       "</style>\n",
       "<table border=\"1\" class=\"dataframe\">\n",
       "  <thead>\n",
       "    <tr style=\"text-align: right;\">\n",
       "      <th></th>\n",
       "      <th>CHROM</th>\n",
       "      <th>POS</th>\n",
       "      <th>ID</th>\n",
       "      <th>REF</th>\n",
       "      <th>ALT</th>\n",
       "      <th>QUAL</th>\n",
       "      <th>FILTER</th>\n",
       "      <th>INFO</th>\n",
       "      <th>FORMAT</th>\n",
       "      <th>W2112623_S7.bam</th>\n",
       "    </tr>\n",
       "  </thead>\n",
       "  <tbody>\n",
       "    <tr>\n",
       "      <th>0</th>\n",
       "      <td>chr1</td>\n",
       "      <td>36931729</td>\n",
       "      <td>.</td>\n",
       "      <td>A</td>\n",
       "      <td>G</td>\n",
       "      <td>6</td>\n",
       "      <td>q20</td>\n",
       "      <td>DP=737;phyloP=-0.648;CSQT=1|MRPS15|NM_031280.3...</td>\n",
       "      <td>GT:GQ:AD:DP:VF:NL:SB:NC</td>\n",
       "      <td>0/1:6:729,8:737:0.0109:21:-11.5169:0.0041</td>\n",
       "    </tr>\n",
       "    <tr>\n",
       "      <th>1</th>\n",
       "      <td>chr1</td>\n",
       "      <td>36931843</td>\n",
       "      <td>.</td>\n",
       "      <td>A</td>\n",
       "      <td>G</td>\n",
       "      <td>6</td>\n",
       "      <td>q20</td>\n",
       "      <td>DP=729;phyloP=-0.02;CSQT=1|MRPS15|NM_031280.3|...</td>\n",
       "      <td>GT:GQ:AD:DP:VF:NL:SB:NC</td>\n",
       "      <td>0/1:6:721,8:729:0.0110:21:-8.2498:0.0149</td>\n",
       "    </tr>\n",
       "    <tr>\n",
       "      <th>2</th>\n",
       "      <td>chr1</td>\n",
       "      <td>36933096</td>\n",
       "      <td>rs3918000</td>\n",
       "      <td>T</td>\n",
       "      <td>C</td>\n",
       "      <td>100</td>\n",
       "      <td>PASS</td>\n",
       "      <td>DP=543;GMAF=C|0.1344;AA=C;AF1000G=0.134385;phy...</td>\n",
       "      <td>GT:GQ:AD:DP:VF:NL:SB:NC</td>\n",
       "      <td>0/1:100:266,276:543:0.5083:22:-100.0000:0.0216</td>\n",
       "    </tr>\n",
       "    <tr>\n",
       "      <th>3</th>\n",
       "      <td>chr1</td>\n",
       "      <td>36933120</td>\n",
       "      <td>.</td>\n",
       "      <td>TG</td>\n",
       "      <td>T</td>\n",
       "      <td>27</td>\n",
       "      <td>PASS</td>\n",
       "      <td>DP=553;GMAF=A|0.0007987;CSQT=1|MRPS15|NM_03128...</td>\n",
       "      <td>GT:GQ:AD:DP:VF:NL:SB:NC</td>\n",
       "      <td>0/1:27:545,8:553:0.0145:24:-15.7127:0.0000</td>\n",
       "    </tr>\n",
       "    <tr>\n",
       "      <th>4</th>\n",
       "      <td>chr1</td>\n",
       "      <td>36933288</td>\n",
       "      <td>rs754325073</td>\n",
       "      <td>C</td>\n",
       "      <td>T</td>\n",
       "      <td>20</td>\n",
       "      <td>PASS</td>\n",
       "      <td>DP=324;phyloP=0.234;CSQT=1|MRPS15|NM_031280.3|...</td>\n",
       "      <td>GT:GQ:AD:DP:VF:NL:SB:NC</td>\n",
       "      <td>0/1:20:319,5:324:0.0154:24:-8.7917:0.0122</td>\n",
       "    </tr>\n",
       "  </tbody>\n",
       "</table>\n",
       "</div>"
      ],
      "text/plain": [
       "  CHROM       POS           ID REF ALT  QUAL FILTER  \\\n",
       "0  chr1  36931729            .   A   G     6    q20   \n",
       "1  chr1  36931843            .   A   G     6    q20   \n",
       "2  chr1  36933096    rs3918000   T   C   100   PASS   \n",
       "3  chr1  36933120            .  TG   T    27   PASS   \n",
       "4  chr1  36933288  rs754325073   C   T    20   PASS   \n",
       "\n",
       "                                                INFO                   FORMAT  \\\n",
       "0  DP=737;phyloP=-0.648;CSQT=1|MRPS15|NM_031280.3...  GT:GQ:AD:DP:VF:NL:SB:NC   \n",
       "1  DP=729;phyloP=-0.02;CSQT=1|MRPS15|NM_031280.3|...  GT:GQ:AD:DP:VF:NL:SB:NC   \n",
       "2  DP=543;GMAF=C|0.1344;AA=C;AF1000G=0.134385;phy...  GT:GQ:AD:DP:VF:NL:SB:NC   \n",
       "3  DP=553;GMAF=A|0.0007987;CSQT=1|MRPS15|NM_03128...  GT:GQ:AD:DP:VF:NL:SB:NC   \n",
       "4  DP=324;phyloP=0.234;CSQT=1|MRPS15|NM_031280.3|...  GT:GQ:AD:DP:VF:NL:SB:NC   \n",
       "\n",
       "                                  W2112623_S7.bam  \n",
       "0       0/1:6:729,8:737:0.0109:21:-11.5169:0.0041  \n",
       "1        0/1:6:721,8:729:0.0110:21:-8.2498:0.0149  \n",
       "2  0/1:100:266,276:543:0.5083:22:-100.0000:0.0216  \n",
       "3      0/1:27:545,8:553:0.0145:24:-15.7127:0.0000  \n",
       "4       0/1:20:319,5:324:0.0154:24:-8.7917:0.0122  "
      ]
     },
     "execution_count": 13,
     "metadata": {},
     "output_type": "execute_result"
    }
   ],
   "source": [
    "test = load_sample (\"./Data_input/W2112623_S7.vcf\")[0]\n",
    "test.head()"
   ]
  },
  {
   "cell_type": "code",
   "execution_count": 20,
   "metadata": {},
   "outputs": [
    {
     "data": {
      "text/html": [
       "<div>\n",
       "<style scoped>\n",
       "    .dataframe tbody tr th:only-of-type {\n",
       "        vertical-align: middle;\n",
       "    }\n",
       "\n",
       "    .dataframe tbody tr th {\n",
       "        vertical-align: top;\n",
       "    }\n",
       "\n",
       "    .dataframe thead th {\n",
       "        text-align: right;\n",
       "    }\n",
       "</style>\n",
       "<table border=\"1\" class=\"dataframe\">\n",
       "  <thead>\n",
       "    <tr style=\"text-align: right;\">\n",
       "      <th></th>\n",
       "      <th>CHROM</th>\n",
       "      <th>POS</th>\n",
       "      <th>ID</th>\n",
       "      <th>REF</th>\n",
       "      <th>ALT</th>\n",
       "      <th>QUAL</th>\n",
       "      <th>FILTER</th>\n",
       "      <th>INFO</th>\n",
       "      <th>FORMAT</th>\n",
       "      <th>W2112623_S7.bam</th>\n",
       "    </tr>\n",
       "  </thead>\n",
       "  <tbody>\n",
       "    <tr>\n",
       "      <th>572</th>\n",
       "      <td>chrX</td>\n",
       "      <td>15808795</td>\n",
       "      <td>.</td>\n",
       "      <td>T</td>\n",
       "      <td>.</td>\n",
       "      <td>100</td>\n",
       "      <td>PASS</td>\n",
       "      <td>DP=790;RefMinor;GMAF=T|0.002649;phyloP=-2.424;...</td>\n",
       "      <td>GT:GQ:AD:DP:VF:NL:SB:NC</td>\n",
       "      <td>0/0:18:788:790:0.0025:24:-100.0000:0.1023</td>\n",
       "    </tr>\n",
       "  </tbody>\n",
       "</table>\n",
       "</div>"
      ],
      "text/plain": [
       "    CHROM       POS ID REF ALT  QUAL FILTER  \\\n",
       "572  chrX  15808795  .   T   .   100   PASS   \n",
       "\n",
       "                                                  INFO  \\\n",
       "572  DP=790;RefMinor;GMAF=T|0.002649;phyloP=-2.424;...   \n",
       "\n",
       "                      FORMAT                            W2112623_S7.bam  \n",
       "572  GT:GQ:AD:DP:VF:NL:SB:NC  0/0:18:788:790:0.0025:24:-100.0000:0.1023  "
      ]
     },
     "metadata": {},
     "output_type": "display_data"
    }
   ],
   "source": [
    "display(test[test[\"POS\"] == 15808795])\n",
    "\n",
    "#W2112623_S7.bamchrX:15808795T>."
   ]
  },
  {
   "cell_type": "code",
   "execution_count": null,
   "metadata": {},
   "outputs": [],
   "source": []
  }
 ],
 "metadata": {
  "kernelspec": {
   "display_name": "Python 3",
   "language": "python",
   "name": "python3"
  },
  "language_info": {
   "codemirror_mode": {
    "name": "ipython",
    "version": 3
   },
   "file_extension": ".py",
   "mimetype": "text/x-python",
   "name": "python",
   "nbconvert_exporter": "python",
   "pygments_lexer": "ipython3",
   "version": "3.8.5"
  }
 },
 "nbformat": 4,
 "nbformat_minor": 4
}
